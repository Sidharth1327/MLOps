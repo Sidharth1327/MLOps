{
 "cells": [
  {
   "cell_type": "code",
   "execution_count": 1,
   "id": "89caa86f",
   "metadata": {},
   "outputs": [
    {
     "name": "stdout",
     "output_type": "stream",
     "text": [
      "Python 3.9.23\n"
     ]
    }
   ],
   "source": [
    "!python -V"
   ]
  },
  {
   "cell_type": "code",
   "execution_count": 2,
   "id": "08f26119",
   "metadata": {},
   "outputs": [],
   "source": [
    "import pandas as pd "
   ]
  },
  {
   "cell_type": "code",
   "execution_count": 3,
   "id": "77c61802",
   "metadata": {},
   "outputs": [],
   "source": [
    "import pickle"
   ]
  },
  {
   "cell_type": "code",
   "execution_count": 4,
   "id": "b9e67472",
   "metadata": {},
   "outputs": [],
   "source": [
    "import seaborn as sns\n",
    "import matplotlib.pyplot as plt"
   ]
  },
  {
   "cell_type": "code",
   "execution_count": 5,
   "id": "d86c2eb3",
   "metadata": {},
   "outputs": [],
   "source": [
    "from sklearn.feature_extraction import DictVectorizer\n",
    "from sklearn.linear_model import LinearRegression\n",
    "from sklearn.linear_model import Lasso\n",
    "from sklearn.linear_model import Ridge\n",
    "\n",
    "from sklearn.metrics import mean_squared_error"
   ]
  },
  {
   "cell_type": "code",
   "execution_count": 6,
   "id": "941cfda8",
   "metadata": {},
   "outputs": [
    {
     "name": "stderr",
     "output_type": "stream",
     "text": [
      "2025/08/27 11:26:15 INFO mlflow.store.db.utils: Creating initial MLflow database tables...\n",
      "2025/08/27 11:26:15 INFO mlflow.store.db.utils: Updating database tables\n",
      "INFO  [alembic.runtime.migration] Context impl SQLiteImpl.\n",
      "INFO  [alembic.runtime.migration] Will assume non-transactional DDL.\n",
      "INFO  [alembic.runtime.migration] Context impl SQLiteImpl.\n",
      "INFO  [alembic.runtime.migration] Will assume non-transactional DDL.\n"
     ]
    },
    {
     "data": {
      "text/plain": [
       "<Experiment: artifact_location='/workspaces/MLOps/02-experiment-tracking/mlruns/1', creation_time=1756198980276, experiment_id='1', last_update_time=1756198980276, lifecycle_stage='active', name='nyc-taxi-experiment', tags={}>"
      ]
     },
     "execution_count": 6,
     "metadata": {},
     "output_type": "execute_result"
    }
   ],
   "source": [
    "import mlflow\n",
    "mlflow.set_tracking_uri(\"sqlite:///mlflow.db\")\n",
    "mlflow.set_experiment(\"nyc-taxi-experiment\")"
   ]
  },
  {
   "cell_type": "code",
   "execution_count": 7,
   "id": "f91ddb9b",
   "metadata": {},
   "outputs": [],
   "source": [
    "df = pd.read_parquet('https://d37ci6vzurychx.cloudfront.net/trip-data/yellow_tripdata_2021-01.parquet')"
   ]
  },
  {
   "cell_type": "code",
   "execution_count": 8,
   "id": "f604d74e",
   "metadata": {},
   "outputs": [
    {
     "data": {
      "text/html": [
       "<div>\n",
       "<style scoped>\n",
       "    .dataframe tbody tr th:only-of-type {\n",
       "        vertical-align: middle;\n",
       "    }\n",
       "\n",
       "    .dataframe tbody tr th {\n",
       "        vertical-align: top;\n",
       "    }\n",
       "\n",
       "    .dataframe thead th {\n",
       "        text-align: right;\n",
       "    }\n",
       "</style>\n",
       "<table border=\"1\" class=\"dataframe\">\n",
       "  <thead>\n",
       "    <tr style=\"text-align: right;\">\n",
       "      <th></th>\n",
       "      <th>VendorID</th>\n",
       "      <th>tpep_pickup_datetime</th>\n",
       "      <th>tpep_dropoff_datetime</th>\n",
       "      <th>passenger_count</th>\n",
       "      <th>trip_distance</th>\n",
       "      <th>RatecodeID</th>\n",
       "      <th>store_and_fwd_flag</th>\n",
       "      <th>PULocationID</th>\n",
       "      <th>DOLocationID</th>\n",
       "      <th>payment_type</th>\n",
       "      <th>fare_amount</th>\n",
       "      <th>extra</th>\n",
       "      <th>mta_tax</th>\n",
       "      <th>tip_amount</th>\n",
       "      <th>tolls_amount</th>\n",
       "      <th>improvement_surcharge</th>\n",
       "      <th>total_amount</th>\n",
       "      <th>congestion_surcharge</th>\n",
       "      <th>airport_fee</th>\n",
       "    </tr>\n",
       "  </thead>\n",
       "  <tbody>\n",
       "    <tr>\n",
       "      <th>0</th>\n",
       "      <td>1</td>\n",
       "      <td>2021-01-01 00:30:10</td>\n",
       "      <td>2021-01-01 00:36:12</td>\n",
       "      <td>1.0</td>\n",
       "      <td>2.10</td>\n",
       "      <td>1.0</td>\n",
       "      <td>N</td>\n",
       "      <td>142</td>\n",
       "      <td>43</td>\n",
       "      <td>2</td>\n",
       "      <td>8.0</td>\n",
       "      <td>3.0</td>\n",
       "      <td>0.5</td>\n",
       "      <td>0.00</td>\n",
       "      <td>0.0</td>\n",
       "      <td>0.3</td>\n",
       "      <td>11.80</td>\n",
       "      <td>2.5</td>\n",
       "      <td>NaN</td>\n",
       "    </tr>\n",
       "    <tr>\n",
       "      <th>1</th>\n",
       "      <td>1</td>\n",
       "      <td>2021-01-01 00:51:20</td>\n",
       "      <td>2021-01-01 00:52:19</td>\n",
       "      <td>1.0</td>\n",
       "      <td>0.20</td>\n",
       "      <td>1.0</td>\n",
       "      <td>N</td>\n",
       "      <td>238</td>\n",
       "      <td>151</td>\n",
       "      <td>2</td>\n",
       "      <td>3.0</td>\n",
       "      <td>0.5</td>\n",
       "      <td>0.5</td>\n",
       "      <td>0.00</td>\n",
       "      <td>0.0</td>\n",
       "      <td>0.3</td>\n",
       "      <td>4.30</td>\n",
       "      <td>0.0</td>\n",
       "      <td>NaN</td>\n",
       "    </tr>\n",
       "    <tr>\n",
       "      <th>2</th>\n",
       "      <td>1</td>\n",
       "      <td>2021-01-01 00:43:30</td>\n",
       "      <td>2021-01-01 01:11:06</td>\n",
       "      <td>1.0</td>\n",
       "      <td>14.70</td>\n",
       "      <td>1.0</td>\n",
       "      <td>N</td>\n",
       "      <td>132</td>\n",
       "      <td>165</td>\n",
       "      <td>1</td>\n",
       "      <td>42.0</td>\n",
       "      <td>0.5</td>\n",
       "      <td>0.5</td>\n",
       "      <td>8.65</td>\n",
       "      <td>0.0</td>\n",
       "      <td>0.3</td>\n",
       "      <td>51.95</td>\n",
       "      <td>0.0</td>\n",
       "      <td>NaN</td>\n",
       "    </tr>\n",
       "    <tr>\n",
       "      <th>3</th>\n",
       "      <td>1</td>\n",
       "      <td>2021-01-01 00:15:48</td>\n",
       "      <td>2021-01-01 00:31:01</td>\n",
       "      <td>0.0</td>\n",
       "      <td>10.60</td>\n",
       "      <td>1.0</td>\n",
       "      <td>N</td>\n",
       "      <td>138</td>\n",
       "      <td>132</td>\n",
       "      <td>1</td>\n",
       "      <td>29.0</td>\n",
       "      <td>0.5</td>\n",
       "      <td>0.5</td>\n",
       "      <td>6.05</td>\n",
       "      <td>0.0</td>\n",
       "      <td>0.3</td>\n",
       "      <td>36.35</td>\n",
       "      <td>0.0</td>\n",
       "      <td>NaN</td>\n",
       "    </tr>\n",
       "    <tr>\n",
       "      <th>4</th>\n",
       "      <td>2</td>\n",
       "      <td>2021-01-01 00:31:49</td>\n",
       "      <td>2021-01-01 00:48:21</td>\n",
       "      <td>1.0</td>\n",
       "      <td>4.94</td>\n",
       "      <td>1.0</td>\n",
       "      <td>N</td>\n",
       "      <td>68</td>\n",
       "      <td>33</td>\n",
       "      <td>1</td>\n",
       "      <td>16.5</td>\n",
       "      <td>0.5</td>\n",
       "      <td>0.5</td>\n",
       "      <td>4.06</td>\n",
       "      <td>0.0</td>\n",
       "      <td>0.3</td>\n",
       "      <td>24.36</td>\n",
       "      <td>2.5</td>\n",
       "      <td>NaN</td>\n",
       "    </tr>\n",
       "  </tbody>\n",
       "</table>\n",
       "</div>"
      ],
      "text/plain": [
       "   VendorID tpep_pickup_datetime tpep_dropoff_datetime  passenger_count  \\\n",
       "0         1  2021-01-01 00:30:10   2021-01-01 00:36:12              1.0   \n",
       "1         1  2021-01-01 00:51:20   2021-01-01 00:52:19              1.0   \n",
       "2         1  2021-01-01 00:43:30   2021-01-01 01:11:06              1.0   \n",
       "3         1  2021-01-01 00:15:48   2021-01-01 00:31:01              0.0   \n",
       "4         2  2021-01-01 00:31:49   2021-01-01 00:48:21              1.0   \n",
       "\n",
       "   trip_distance  RatecodeID store_and_fwd_flag  PULocationID  DOLocationID  \\\n",
       "0           2.10         1.0                  N           142            43   \n",
       "1           0.20         1.0                  N           238           151   \n",
       "2          14.70         1.0                  N           132           165   \n",
       "3          10.60         1.0                  N           138           132   \n",
       "4           4.94         1.0                  N            68            33   \n",
       "\n",
       "   payment_type  fare_amount  extra  mta_tax  tip_amount  tolls_amount  \\\n",
       "0             2          8.0    3.0      0.5        0.00           0.0   \n",
       "1             2          3.0    0.5      0.5        0.00           0.0   \n",
       "2             1         42.0    0.5      0.5        8.65           0.0   \n",
       "3             1         29.0    0.5      0.5        6.05           0.0   \n",
       "4             1         16.5    0.5      0.5        4.06           0.0   \n",
       "\n",
       "   improvement_surcharge  total_amount  congestion_surcharge  airport_fee  \n",
       "0                    0.3         11.80                   2.5          NaN  \n",
       "1                    0.3          4.30                   0.0          NaN  \n",
       "2                    0.3         51.95                   0.0          NaN  \n",
       "3                    0.3         36.35                   0.0          NaN  \n",
       "4                    0.3         24.36                   2.5          NaN  "
      ]
     },
     "execution_count": 8,
     "metadata": {},
     "output_type": "execute_result"
    }
   ],
   "source": [
    "df.head()"
   ]
  },
  {
   "cell_type": "code",
   "execution_count": 9,
   "id": "3ac30b12",
   "metadata": {},
   "outputs": [
    {
     "data": {
      "text/plain": [
       "(1369769, 19)"
      ]
     },
     "execution_count": 9,
     "metadata": {},
     "output_type": "execute_result"
    }
   ],
   "source": [
    "df.shape\n"
   ]
  },
  {
   "cell_type": "code",
   "execution_count": 10,
   "id": "7476b450",
   "metadata": {},
   "outputs": [
    {
     "name": "stderr",
     "output_type": "stream",
     "text": [
      "/tmp/ipykernel_62541/1989128297.py:16: FutureWarning: Setting an item of incompatible dtype is deprecated and will raise in a future error of pandas. Value '['170' '100' '166' ... '7' '68' '229']' has dtype incompatible with int64, please explicitly cast to a compatible dtype first.\n",
      "  df_sample.loc[:, categorical] = df_sample[categorical].astype(str)\n",
      "/tmp/ipykernel_62541/1989128297.py:16: FutureWarning: Setting an item of incompatible dtype is deprecated and will raise in a future error of pandas. Value '['237' '142' '231' ... '163' '229' '141']' has dtype incompatible with int64, please explicitly cast to a compatible dtype first.\n",
      "  df_sample.loc[:, categorical] = df_sample[categorical].astype(str)\n"
     ]
    }
   ],
   "source": [
    "# Use only 100k rows for training (enough to test pipeline)\n",
    "df_sample = df.sample(n=100000, random_state=42)\n",
    "# Ensure datetime conversion\n",
    "df_sample.loc[:, 'tpep_dropoff_datetime'] = pd.to_datetime(df_sample['tpep_dropoff_datetime'])\n",
    "df_sample.loc[:, 'tpep_pickup_datetime'] = pd.to_datetime(df_sample['tpep_pickup_datetime'])\n",
    "\n",
    "# Duration in minutes (vectorized, no apply)\n",
    "df_sample.loc[:, 'duration'] = (df_sample['tpep_dropoff_datetime'] - df_sample['tpep_pickup_datetime']).dt.total_seconds() / 60\n",
    "\n",
    "# Filter rows (returns a copy, so reassign)\n",
    "df_sample = df_sample.loc[(df_sample['duration'] >= 1) & (df_sample['duration'] <= 60)].copy()\n",
    "\n",
    "# Cast categorical\n",
    "categorical = ['PULocationID', 'DOLocationID']\n",
    "numerical = ['trip_distance']\n",
    "df_sample.loc[:, categorical] = df_sample[categorical].astype(str)\n",
    "\n"
   ]
  },
  {
   "cell_type": "code",
   "execution_count": 11,
   "id": "c7c3a247",
   "metadata": {},
   "outputs": [
    {
     "data": {
      "text/plain": [
       "45.911538072055265"
      ]
     },
     "execution_count": 11,
     "metadata": {},
     "output_type": "execute_result"
    }
   ],
   "source": [
    "\n",
    "\n",
    "train_dicts = df_sample[categorical + numerical].to_dict(orient='records')\n",
    "dv = DictVectorizer()\n",
    "X_train = dv.fit_transform(train_dicts)\n",
    "\n",
    "y_train = df_sample['duration'].values\n",
    "\n",
    "\n",
    "lr = LinearRegression()\n",
    "lr.fit(X_train, y_train)\n",
    "\n",
    "y_pred = lr.predict(X_train)\n",
    "\n",
    "mean_squared_error(y_train, y_pred)"
   ]
  },
  {
   "cell_type": "code",
   "execution_count": 12,
   "id": "4ddbcaa5",
   "metadata": {},
   "outputs": [
    {
     "data": {
      "text/plain": [
       "<matplotlib.legend.Legend at 0x7a5906e43550>"
      ]
     },
     "execution_count": 12,
     "metadata": {},
     "output_type": "execute_result"
    },
    {
     "data": {
      "image/png": "[encoded data removed]",
      "text/plain": [
       "<Figure size 640x480 with 1 Axes>"
      ]
     },
     "metadata": {},
     "output_type": "display_data"
    }
   ],
   "source": [
    "sns.histplot(y_pred, label='prediction', color='blue', kde=True, stat=\"density\")\n",
    "sns.histplot(y_train, label='actual', color='orange', kde=True, stat=\"density\")\n",
    "plt.legend()\n"
   ]
  },
  {
   "cell_type": "code",
   "execution_count": 13,
   "id": "fe6be50a",
   "metadata": {},
   "outputs": [],
   "source": [
    "def read_dataframe(filename):\n",
    "    cols = [\n",
    "        \"tpep_pickup_datetime\", \n",
    "        \"tpep_dropoff_datetime\", \n",
    "        \"PULocationID\", \n",
    "        \"DOLocationID\", \n",
    "        \"trip_distance\"\n",
    "    ]\n",
    "\n",
    "    if filename.endswith('.csv'):\n",
    "        df = pd.read_csv(filename, usecols=cols)\n",
    "\n",
    "    elif filename.endswith('.parquet'):\n",
    "        df = pd.read_parquet(filename, columns=cols)\n",
    "\n",
    "    else:\n",
    "        raise ValueError(\"Unsupported file format: must be .csv or .parquet\")\n",
    "\n",
    "    # Convert to datetime\n",
    "    df['tpep_dropoff_datetime'] = pd.to_datetime(df['tpep_dropoff_datetime'])\n",
    "    df['tpep_pickup_datetime'] = pd.to_datetime(df['tpep_pickup_datetime'])\n",
    "\n",
    "    # Duration in minutes\n",
    "    df['duration'] = (df['tpep_dropoff_datetime'] - df['tpep_pickup_datetime']).dt.total_seconds() / 60\n",
    "\n",
    "    # Filter reasonable trips\n",
    "    df = df[(df['duration'] >= 1) & (df['duration'] <= 60)].copy()\n",
    "\n",
    "    # Categorical columns as string\n",
    "    categorical = ['PULocationID', 'DOLocationID']\n",
    "    df[categorical] = df[categorical].astype(str)\n",
    "\n",
    "    return df\n"
   ]
  },
  {
   "cell_type": "code",
   "execution_count": 14,
   "id": "facd57fd",
   "metadata": {},
   "outputs": [],
   "source": [
    "df_train = read_dataframe('https://d37ci6vzurychx.cloudfront.net/trip-data/yellow_tripdata_2021-01.parquet').sample(100000, random_state=42)\n",
    "df_val = read_dataframe('https://d37ci6vzurychx.cloudfront.net/trip-data/yellow_tripdata_2021-02.parquet').sample(50000, random_state=42)"
   ]
  },
  {
   "cell_type": "code",
   "execution_count": 15,
   "id": "367a3edb",
   "metadata": {},
   "outputs": [
    {
     "data": {
      "text/plain": [
       "(100000, 50000)"
      ]
     },
     "execution_count": 15,
     "metadata": {},
     "output_type": "execute_result"
    }
   ],
   "source": [
    "len(df_train), len(df_val)"
   ]
  },
  {
   "cell_type": "code",
   "execution_count": 16,
   "id": "082998a2",
   "metadata": {},
   "outputs": [],
   "source": [
    "df_train['PU_DO'] = df_train['PULocationID'] + '_' + df_train['DOLocationID']\n",
    "df_val['PU_DO'] = df_val['PULocationID'] + '_' + df_val['DOLocationID']"
   ]
  },
  {
   "cell_type": "code",
   "execution_count": 17,
   "id": "1ba7f5fc",
   "metadata": {},
   "outputs": [],
   "source": [
    "categorical = ['PU_DO'] #'PULocationID', 'DOLocationID']\n",
    "numerical = ['trip_distance']\n",
    "\n",
    "dv = DictVectorizer()\n",
    "\n",
    "train_dicts = df_train[categorical + numerical].to_dict(orient='records')\n",
    "X_train = dv.fit_transform(train_dicts)\n",
    "\n",
    "val_dicts = df_val[categorical + numerical].to_dict(orient='records')\n",
    "X_val = dv.transform(val_dicts)\n",
    "\n",
    "with open(\"models/preprocessor.b\", \"wb\") as f_out:\n",
    "    pickle.dump(dv, f_out)"
   ]
  },
  {
   "cell_type": "code",
   "execution_count": 18,
   "id": "316e6e20",
   "metadata": {},
   "outputs": [],
   "source": [
    "target = 'duration'\n",
    "y_train = df_train[target].values\n",
    "y_val = df_val[target].values"
   ]
  },
  {
   "cell_type": "code",
   "execution_count": 19,
   "id": "9580802f",
   "metadata": {},
   "outputs": [
    {
     "data": {
      "text/plain": [
       "31.71250270874778"
      ]
     },
     "execution_count": 19,
     "metadata": {},
     "output_type": "execute_result"
    }
   ],
   "source": [
    "lr = LinearRegression()\n",
    "lr.fit(X_train, y_train)\n",
    "\n",
    "y_pred = lr.predict(X_val)\n",
    "\n",
    "mean_squared_error(y_val, y_pred)"
   ]
  },
  {
   "cell_type": "code",
   "execution_count": 20,
   "id": "7ce0dc83",
   "metadata": {},
   "outputs": [],
   "source": [
    "import os\n",
    "import pickle\n",
    "\n",
    "# Make sure folder exists\n",
    "os.makedirs(\"models\", exist_ok=True)\n",
    "\n",
    "# Save model + vectorizer\n",
    "with open(\"models/lin_reg.bin\", \"wb\") as f_out:\n",
    "    pickle.dump((dv, lr), f_out)\n",
    "mlflow.log_artifact(\"models/preprocessor.b\", artifact_path=\"preprocessor\")    \n",
    "mlflow.end_run()"
   ]
  },
  {
   "cell_type": "code",
   "execution_count": 21,
   "id": "39a47f8d",
   "metadata": {},
   "outputs": [],
   "source": [
    "with mlflow.start_run():\n",
    "    mlflow.set_tag(\"developer\", \"Sidhu\")\n",
    "    mlflow.log_param(\"train_data\", \"https://d37ci6vzurychx.cloudfront.net/trip-data/yellow_tripdata_2025-01.parquet\")\n",
    "    mlflow.log_param(\"test_data\", \"https://d37ci6vzurychx.cloudfront.net/trip-data/yellow_tripdata_2025-02.parquet\")\n",
    "\n",
    "    alpha = 0.1\n",
    "    mlflow.log_param(\"alpha\", alpha)\n",
    "    lr = Lasso(alpha)\n",
    "    lr.fit(X_train, y_train)\n",
    "    y_pred = lr.predict(X_val)\n",
    "    mse = mean_squared_error(y_val, y_pred)\n",
    "    mlflow.log_metric(\"mse\", mse)\n",
    "   "
   ]
  },
  {
   "cell_type": "code",
   "execution_count": 22,
   "id": "ca67ed95",
   "metadata": {},
   "outputs": [],
   "source": [
    "import xgboost as xgb"
   ]
  },
  {
   "cell_type": "code",
   "execution_count": 23,
   "id": "e9a43432",
   "metadata": {},
   "outputs": [],
   "source": [
    "from hyperopt import fmin, tpe, hp, STATUS_OK, Trials\n",
    "from hyperopt.pyll import scope"
   ]
  },
  {
   "cell_type": "code",
   "execution_count": 24,
   "id": "09d763e4",
   "metadata": {},
   "outputs": [],
   "source": [
    "train = xgb.DMatrix(X_train, label=y_train)\n",
    "valid = xgb.DMatrix(X_val, label=y_val)"
   ]
  },
  {
   "cell_type": "code",
   "execution_count": 25,
   "id": "738c9099",
   "metadata": {},
   "outputs": [],
   "source": [
    "def objective(params):\n",
    "    with mlflow.start_run():\n",
    "        mlflow.set_tag(\"model\", \"xgboost\")\n",
    "        mlflow.log_params(params)\n",
    "        booster = xgb.train(\n",
    "            params=params,\n",
    "            dtrain=train,\n",
    "            num_boost_round=200,\n",
    "            evals=[(valid, 'validation')],\n",
    "            early_stopping_rounds=20\n",
    "        )\n",
    "        y_pred = booster.predict(valid)\n",
    "        mse = mean_squared_error(y_val, y_pred)\n",
    "        mlflow.log_metric(\"mse\", mse)\n",
    "\n",
    "    return {'loss': mse, 'status': STATUS_OK}"
   ]
  },
  {
   "cell_type": "code",
   "execution_count": 26,
   "id": "388c97eb",
   "metadata": {},
   "outputs": [],
   "source": [
    "# search_space = {\n",
    "#     'max_depth': scope.int(hp.quniform('max_depth', 4, 12, 1)),\n",
    "#     'learning_rate': hp.loguniform('learning_rate', -3, -1),\n",
    "#     'reg_alpha': hp.loguniform('reg_alpha', -5, -1),\n",
    "#     'reg_lambda': hp.loguniform('reg_lambda', -6, -1),\n",
    "#     'min_child_weight': hp.loguniform('min_child_weight', -1, 3),\n",
    "#     'objective': 'reg:squarederror',\n",
    "#     'seed': 42\n",
    "# }\n",
    "\n",
    "# best_result = fmin(\n",
    "#     fn=objective,\n",
    "#     space=search_space,\n",
    "#     algo=tpe.suggest,\n",
    "#     max_evals=15,\n",
    "#     trials=Trials()\n",
    "# )"
   ]
  },
  {
   "cell_type": "code",
   "execution_count": 29,
   "id": "cdc054ad",
   "metadata": {},
   "outputs": [
    {
     "name": "stdout",
     "output_type": "stream",
     "text": [
      "[0]\tvalidation-rmse:8.33911\n",
      "[1]\tvalidation-rmse:7.59997\n",
      "[2]\tvalidation-rmse:7.02126\n",
      "[3]\tvalidation-rmse:6.56960\n",
      "[4]\tvalidation-rmse:6.22045\n",
      "[5]\tvalidation-rmse:5.95425\n",
      "[6]\tvalidation-rmse:5.74852\n",
      "[7]\tvalidation-rmse:5.59488\n",
      "[8]\tvalidation-rmse:5.47616\n",
      "[9]\tvalidation-rmse:5.38550\n",
      "[10]\tvalidation-rmse:5.31611\n",
      "[11]\tvalidation-rmse:5.26223\n",
      "[12]\tvalidation-rmse:5.22056\n",
      "[13]\tvalidation-rmse:5.18886\n",
      "[14]\tvalidation-rmse:5.16090\n",
      "[15]\tvalidation-rmse:5.13916\n",
      "[16]\tvalidation-rmse:5.12290\n",
      "[17]\tvalidation-rmse:5.10794\n",
      "[18]\tvalidation-rmse:5.09544\n",
      "[19]\tvalidation-rmse:5.08324\n",
      "[20]\tvalidation-rmse:5.07482\n",
      "[21]\tvalidation-rmse:5.06882\n",
      "[22]\tvalidation-rmse:5.06222\n",
      "[23]\tvalidation-rmse:5.05939\n",
      "[24]\tvalidation-rmse:5.05804\n",
      "[25]\tvalidation-rmse:5.05371\n",
      "[26]\tvalidation-rmse:5.05302\n",
      "[27]\tvalidation-rmse:5.04977\n",
      "[28]\tvalidation-rmse:5.04883\n",
      "[29]\tvalidation-rmse:5.04842\n",
      "[30]\tvalidation-rmse:5.04742\n",
      "[31]\tvalidation-rmse:5.04440\n",
      "[32]\tvalidation-rmse:5.04391\n",
      "[33]\tvalidation-rmse:5.04245\n",
      "[34]\tvalidation-rmse:5.04202\n",
      "[35]\tvalidation-rmse:5.03969\n",
      "[36]\tvalidation-rmse:5.03814\n",
      "[37]\tvalidation-rmse:5.03739\n",
      "[38]\tvalidation-rmse:5.03672\n",
      "[39]\tvalidation-rmse:5.03512\n",
      "[40]\tvalidation-rmse:5.03363\n",
      "[41]\tvalidation-rmse:5.03236\n",
      "[42]\tvalidation-rmse:5.03099\n",
      "[43]\tvalidation-rmse:5.02929\n",
      "[44]\tvalidation-rmse:5.02886\n",
      "[45]\tvalidation-rmse:5.02804\n",
      "[46]\tvalidation-rmse:5.02750\n",
      "[47]\tvalidation-rmse:5.02675\n",
      "[48]\tvalidation-rmse:5.02593\n",
      "[49]\tvalidation-rmse:5.02478\n",
      "[50]\tvalidation-rmse:5.02447\n",
      "[51]\tvalidation-rmse:5.02321\n",
      "[52]\tvalidation-rmse:5.02268\n",
      "[53]\tvalidation-rmse:5.02131\n",
      "[54]\tvalidation-rmse:5.02010\n",
      "[55]\tvalidation-rmse:5.01962\n",
      "[56]\tvalidation-rmse:5.01907\n",
      "[57]\tvalidation-rmse:5.01855\n",
      "[58]\tvalidation-rmse:5.01818\n",
      "[59]\tvalidation-rmse:5.01749\n",
      "[60]\tvalidation-rmse:5.01706\n",
      "[61]\tvalidation-rmse:5.01674\n",
      "[62]\tvalidation-rmse:5.01579\n",
      "[63]\tvalidation-rmse:5.01506\n",
      "[64]\tvalidation-rmse:5.01446\n",
      "[65]\tvalidation-rmse:5.01335\n",
      "[66]\tvalidation-rmse:5.01231\n",
      "[67]\tvalidation-rmse:5.01181\n",
      "[68]\tvalidation-rmse:5.01144\n",
      "[69]\tvalidation-rmse:5.01108\n",
      "[70]\tvalidation-rmse:5.01015\n",
      "[71]\tvalidation-rmse:5.00923\n",
      "[72]\tvalidation-rmse:5.00850\n",
      "[73]\tvalidation-rmse:5.00790\n",
      "[74]\tvalidation-rmse:5.00719\n",
      "[75]\tvalidation-rmse:5.00680\n",
      "[76]\tvalidation-rmse:5.00649\n",
      "[77]\tvalidation-rmse:5.00579\n",
      "[78]\tvalidation-rmse:5.00549\n",
      "[79]\tvalidation-rmse:5.00494\n",
      "[80]\tvalidation-rmse:5.00444\n",
      "[81]\tvalidation-rmse:5.00398\n",
      "[82]\tvalidation-rmse:5.00310\n",
      "[83]\tvalidation-rmse:5.00257\n",
      "[84]\tvalidation-rmse:5.00209\n",
      "[85]\tvalidation-rmse:5.00162\n",
      "[86]\tvalidation-rmse:5.00098\n",
      "[87]\tvalidation-rmse:5.00066\n",
      "[88]\tvalidation-rmse:4.99977\n",
      "[89]\tvalidation-rmse:4.99861\n",
      "[90]\tvalidation-rmse:4.99812\n",
      "[91]\tvalidation-rmse:4.99769\n",
      "[92]\tvalidation-rmse:4.99754\n",
      "[93]\tvalidation-rmse:4.99733\n",
      "[94]\tvalidation-rmse:4.99709\n",
      "[95]\tvalidation-rmse:4.99621\n",
      "[96]\tvalidation-rmse:4.99598\n",
      "[97]\tvalidation-rmse:4.99532\n",
      "[98]\tvalidation-rmse:4.99483\n",
      "[99]\tvalidation-rmse:4.99443\n",
      "[100]\tvalidation-rmse:4.99401\n",
      "[101]\tvalidation-rmse:4.99336\n",
      "[102]\tvalidation-rmse:4.99281\n",
      "[103]\tvalidation-rmse:4.99208\n",
      "[104]\tvalidation-rmse:4.99132\n",
      "[105]\tvalidation-rmse:4.99105\n",
      "[106]\tvalidation-rmse:4.99014\n",
      "[107]\tvalidation-rmse:4.98993\n",
      "[108]\tvalidation-rmse:4.98959\n",
      "[109]\tvalidation-rmse:4.98951\n",
      "[110]\tvalidation-rmse:4.98928\n",
      "[111]\tvalidation-rmse:4.98874\n",
      "[112]\tvalidation-rmse:4.98845\n",
      "[113]\tvalidation-rmse:4.98767\n",
      "[114]\tvalidation-rmse:4.98721\n",
      "[115]\tvalidation-rmse:4.98693\n",
      "[116]\tvalidation-rmse:4.98670\n",
      "[117]\tvalidation-rmse:4.98625\n",
      "[118]\tvalidation-rmse:4.98566\n",
      "[119]\tvalidation-rmse:4.98503\n",
      "[120]\tvalidation-rmse:4.98485\n",
      "[121]\tvalidation-rmse:4.98451\n",
      "[122]\tvalidation-rmse:4.98414\n",
      "[123]\tvalidation-rmse:4.98352\n",
      "[124]\tvalidation-rmse:4.98323\n",
      "[125]\tvalidation-rmse:4.98301\n",
      "[126]\tvalidation-rmse:4.98259\n",
      "[127]\tvalidation-rmse:4.98239\n",
      "[128]\tvalidation-rmse:4.98176\n",
      "[129]\tvalidation-rmse:4.98148\n",
      "[130]\tvalidation-rmse:4.98105\n",
      "[131]\tvalidation-rmse:4.98071\n",
      "[132]\tvalidation-rmse:4.98013\n",
      "[133]\tvalidation-rmse:4.97936\n",
      "[134]\tvalidation-rmse:4.97870\n",
      "[135]\tvalidation-rmse:4.97820\n",
      "[136]\tvalidation-rmse:4.97788\n",
      "[137]\tvalidation-rmse:4.97773\n",
      "[138]\tvalidation-rmse:4.97722\n",
      "[139]\tvalidation-rmse:4.97706\n",
      "[140]\tvalidation-rmse:4.97684\n",
      "[141]\tvalidation-rmse:4.97639\n",
      "[142]\tvalidation-rmse:4.97624\n",
      "[143]\tvalidation-rmse:4.97563\n",
      "[144]\tvalidation-rmse:4.97507\n",
      "[145]\tvalidation-rmse:4.97457\n",
      "[146]\tvalidation-rmse:4.97429\n",
      "[147]\tvalidation-rmse:4.97410\n",
      "[148]\tvalidation-rmse:4.97328\n",
      "[149]\tvalidation-rmse:4.97305\n",
      "[150]\tvalidation-rmse:4.97264\n",
      "[151]\tvalidation-rmse:4.97239\n",
      "[152]\tvalidation-rmse:4.97205\n",
      "[153]\tvalidation-rmse:4.97187\n",
      "[154]\tvalidation-rmse:4.97153\n",
      "[155]\tvalidation-rmse:4.97122\n",
      "[156]\tvalidation-rmse:4.97125\n",
      "[157]\tvalidation-rmse:4.97066\n",
      "[158]\tvalidation-rmse:4.97054\n",
      "[159]\tvalidation-rmse:4.96994\n",
      "[160]\tvalidation-rmse:4.96966\n",
      "[161]\tvalidation-rmse:4.96927\n",
      "[162]\tvalidation-rmse:4.96884\n",
      "[163]\tvalidation-rmse:4.96879\n",
      "[164]\tvalidation-rmse:4.96858\n",
      "[165]\tvalidation-rmse:4.96842\n",
      "[166]\tvalidation-rmse:4.96791\n",
      "[167]\tvalidation-rmse:4.96771\n",
      "[168]\tvalidation-rmse:4.96742\n",
      "[169]\tvalidation-rmse:4.96714\n",
      "[170]\tvalidation-rmse:4.96675\n",
      "[171]\tvalidation-rmse:4.96666\n",
      "[172]\tvalidation-rmse:4.96659\n",
      "[173]\tvalidation-rmse:4.96582\n",
      "[174]\tvalidation-rmse:4.96585\n",
      "[175]\tvalidation-rmse:4.96557\n",
      "[176]\tvalidation-rmse:4.96556\n",
      "[177]\tvalidation-rmse:4.96536\n",
      "[178]\tvalidation-rmse:4.96524\n",
      "[179]\tvalidation-rmse:4.96502\n",
      "[180]\tvalidation-rmse:4.96403\n",
      "[181]\tvalidation-rmse:4.96365\n",
      "[182]\tvalidation-rmse:4.96370\n",
      "[183]\tvalidation-rmse:4.96354\n",
      "[184]\tvalidation-rmse:4.96336\n",
      "[185]\tvalidation-rmse:4.96308\n",
      "[186]\tvalidation-rmse:4.96282\n",
      "[187]\tvalidation-rmse:4.96216\n",
      "[188]\tvalidation-rmse:4.96174\n",
      "[189]\tvalidation-rmse:4.96128\n",
      "[190]\tvalidation-rmse:4.96117\n",
      "[191]\tvalidation-rmse:4.96058\n",
      "[192]\tvalidation-rmse:4.96028\n",
      "[193]\tvalidation-rmse:4.95994\n",
      "[194]\tvalidation-rmse:4.95939\n",
      "[195]\tvalidation-rmse:4.95897\n",
      "[196]\tvalidation-rmse:4.95883\n",
      "[197]\tvalidation-rmse:4.95862\n",
      "[198]\tvalidation-rmse:4.95822\n",
      "[199]\tvalidation-rmse:4.95832\n"
     ]
    },
    {
     "name": "stderr",
     "output_type": "stream",
     "text": [
      "/home/codespace/anaconda3/envs/exp-tracking-env/lib/python3.9/site-packages/xgboost/core.py:158: UserWarning: [11:28:22] WARNING: /workspace/src/c_api/c_api.cc:1374: Saving model in the UBJSON format as default.  You can use file extension: `json`, `ubj` or `deprecated` to choose between formats.\n",
      "  warnings.warn(smsg, UserWarning)\n",
      "\u001b[31m2025/08/27 11:28:26 WARNING mlflow.models.model: Model logged without a signature and input example. Please set `input_example` parameter when logging the model to auto infer the model signature.\u001b[0m\n"
     ]
    }
   ],
   "source": [
    "\n",
    "params = {\n",
    "    \"learning_rate\": 0.15848506129885845,\n",
    "    \"max_depth\": 15,\n",
    "    \"min_child_weight\": 2.1041980108484264,\n",
    "    \"objective\": \"reg:squarederror\",\n",
    "    \"reg_alpha\": 0.008840493913711273,\n",
    "    \"reg_lambda\": 0.002917480412712516,\n",
    "    \"seed\": 42\n",
    "}\n",
    "\n",
    "with mlflow.start_run():\n",
    "    mlflow.set_tag(\"model\", \"xgboost\")\n",
    "        # log all params\n",
    "    for key, value in params.items():\n",
    "        mlflow.log_param(key, value)\n",
    "    booster = xgb.train(\n",
    "        params=params,\n",
    "        dtrain=train,\n",
    "        num_boost_round=200,\n",
    "        evals=[(valid, 'validation')],\n",
    "        early_stopping_rounds=20\n",
    "    )\n",
    "        # evaluate\n",
    "    preds = booster.predict(valid)\n",
    "    mse = mean_squared_error(y_val, preds)\n",
    "    mlflow.log_metric(\"mse\", mse)\n",
    "\n",
    "    # log the model\n",
    "    mlflow.xgboost.log_model(\n",
    "        booster,\n",
    "        name=\"xgboost-model\",  # MLflow 2.9+ prefers `name` over artifact_path)\n",
    "    )"
   ]
  },
  {
   "cell_type": "code",
   "execution_count": null,
   "id": "b27c5944",
   "metadata": {},
   "outputs": [],
   "source": [
    "# mlflow.xgboost.log_model(booster, name=\"model\")"
   ]
  },
  {
   "cell_type": "code",
   "execution_count": null,
   "id": "46ebba6a",
   "metadata": {},
   "outputs": [
    {
     "ename": "",
     "evalue": "",
     "output_type": "error",
     "traceback": [
      "\u001b[1;31mThe Kernel crashed while executing code in the current cell or a previous cell. \n",
      "\u001b[1;31mPlease review the code in the cell(s) to identify a possible cause of the failure. \n",
      "\u001b[1;31mClick <a href='https://aka.ms/vscodeJupyterKernelCrash'>here</a> for more info. \n",
      "\u001b[1;31mView Jupyter <a href='command:jupyter.viewOutput'>log</a> for further details."
     ]
    }
   ],
   "source": [
    "from sklearn.ensemble import RandomForestRegressor, GradientBoostingRegressor, ExtraTreesRegressor\n",
    "from sklearn.svm import LinearSVR\n",
    "\n",
    "mlflow.sklearn.autolog()\n",
    "\n",
    "for model_class in (RandomForestRegressor, GradientBoostingRegressor, ExtraTreesRegressor, LinearSVR):\n",
    "\n",
    "    with mlflow.start_run():\n",
    "\n",
    "        mlflow.log_param(\"train-data-path\", \"https://d37ci6vzurychx.cloudfront.net/trip-data/yellow_tripdata_2025-01.parquet\")\n",
    "        mlflow.log_param(\"valid-data-path\", \"https://d37ci6vzurychx.cloudfront.net/trip-data/yellow_tripdata_2025-02.parquet\")\n",
    "        \n",
    "\n",
    "        mlmodel = model_class()\n",
    "        mlmodel.fit(X_train, y_train)\n",
    "\n",
    "        y_pred = mlmodel.predict(X_val)\n",
    "        mse = mean_squared_error(y_val, y_pred)\n",
    "        mlflow.log_metric(\"mse\", mse)"
   ]
  }
 ],
 "metadata": {
  "kernelspec": {
   "display_name": "exp-tracking-env",
   "language": "python",
   "name": "python3"
  },
  "language_info": {
   "codemirror_mode": {
    "name": "ipython",
    "version": 3
   },
   "file_extension": ".py",
   "mimetype": "text/x-python",
   "name": "python",
   "nbconvert_exporter": "python",
   "pygments_lexer": "ipython3",
   "version": "3.9.23"
  }
 },
 "nbformat": 4,
 "nbformat_minor": 5
}
